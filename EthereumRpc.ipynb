{
 "cells": [
  {
   "cell_type": "code",
   "execution_count": null,
   "metadata": {},
   "outputs": [],
   "source": [
    "import requests\n",
    "import json\n",
    "session = requests.Session()\n",
    "url = \"https://ropsten.infura.io/v3/YOUR_INFURA_KEY\"\n",
    "headers = {'Content-type': 'application/json'}"
   ]
  },
  {
   "cell_type": "code",
   "execution_count": null,
   "metadata": {},
   "outputs": [],
   "source": [
    "# Prepare the data we will send\n",
    "data = {\"jsonrpc\": \"2.0\", \"method\": \"eth_gasPrice\", \"params\": [], \"id\":1}\n",
    "response = session.post(url, json=data, headers=headers)\n",
    "\n",
    "# Check if response is valid\n",
    "if response.ok:\n",
    "    # Get result of the request and decode it to decimal\n",
    "    gasPriceHex = response.json().get(\"result\")\n",
    "    gasPriceDecimal = int(gasPriceHex, 16)\n",
    "else:\n",
    "    # Handle Error\n",
    "    print(\"Error occured\")"
   ]
  },
  {
   "cell_type": "code",
   "execution_count": null,
   "metadata": {},
   "outputs": [],
   "source": [
    "# Set params and prepare data\n",
    "blockNumber = \"latest\"\n",
    "# Boolean indicating if we want the full transactions (True) or just their hashes (false)\n",
    "fullTrx = False\n",
    "params = [ blockNumber, fullTrx]\n",
    "\n",
    "data = {\"jsonrpc\": \"2.0\", \"method\": \"eth_getBlockByNumber\",\"params\": params, \"id\": 1}\n",
    "\n",
    "response = session.post(url, json=data, headers=headers)\n",
    "\n",
    "# Check if response is valid\n",
    "if response.ok:\n",
    "    # Get the block\n",
    "    block = response.json().get(\"result\")\n",
    "    # Get the transactions contained in the block\n",
    "    transactions = block.get(\"transactions\")\n",
    "else:\n",
    "    # Handle Error\n",
    "    print(\"Error occured\")"
   ]
  },
  {
   "cell_type": "code",
   "execution_count": null,
   "metadata": {},
   "outputs": [],
   "source": [
    "params = [transactions[0]]\n",
    "\n",
    "data = {\"jsonrpc\": \"2.0\", \"method\": \"eth_getTransactionByHash\",\"params\": params, \"id\": 3}\n",
    "\n",
    "response = session.post(url, json=data, headers=headers)\n",
    "\n",
    "if response.ok:\n",
    "    transaction = response.json().get(\"result\")\n",
    "else:\n",
    "    # Handle Error\n",
    "    print(\"Error occured\")"
   ]
  },
  {
   "cell_type": "code",
   "execution_count": null,
   "metadata": {},
   "outputs": [],
   "source": [
    "import web3\n",
    "w3 = web3.Web3()\n",
    "account = w3.eth.account.create('put any phrase here')\n",
    "address = account.address\n",
    "pKey = account.privateKey"
   ]
  },
  {
   "cell_type": "code",
   "execution_count": null,
   "metadata": {},
   "outputs": [],
   "source": [
    "# Get the nonce at the latest block\n",
    "params = [address, \"latest\"]\n",
    "\n",
    "data = {\"jsonrpc\": \"2.0\", \"method\": \"eth_getTransactionCount\",\"params\": params, \"id\": 3}\n",
    "\n",
    "response = session.post(url, json=data, headers=headers)\n",
    "\n",
    "if response.ok:\n",
    "    nonce = response.json().get(\"result\")\n",
    "else:\n",
    "    # Handle Error\n",
    "    print(\"Error occured\")"
   ]
  },
  {
   "cell_type": "code",
   "execution_count": null,
   "metadata": {},
   "outputs": [],
   "source": [
    "# Create our transaction\n",
    "signed_txn = w3.eth.account.signTransaction({\n",
    "    # Faucet address\n",
    "    'to': '0x687422eEA2cB73B5d3e242bA5456b782919AFc85',\n",
    "    'nonce': nonce,\n",
    "    'gasPrice': gasPriceHex, \n",
    "    'gas': 100000,\n",
    "    'value': w3.toWei(0.5,'ether'),\n",
    "    # 3 Because we are on Ropsten\n",
    "    'chainId':3,\n",
    "    },\n",
    "  pKey)"
   ]
  },
  {
   "cell_type": "code",
   "execution_count": null,
   "metadata": {},
   "outputs": [],
   "source": [
    "params = [signed_txn.rawTransaction.hex()]\n",
    "\n",
    "data = {\"jsonrpc\": \"2.0\", \"method\": \"eth_sendRawTransaction\",\"params\": params, \"id\": 4}\n",
    "\n",
    "response = session.post(url, json=data, headers=headers)\n",
    "\n",
    "if response.ok:\n",
    "    receipt = response.json().get(\"result\")\n",
    "else:\n",
    "    # Handle Error\n",
    "    print(\"Error occured\")"
   ]
  }
 ],
 "metadata": {
  "kernelspec": {
   "display_name": "Python 3",
   "language": "python",
   "name": "python3"
  },
  "language_info": {
   "codemirror_mode": {
    "name": "ipython",
    "version": 3
   },
   "file_extension": ".py",
   "mimetype": "text/x-python",
   "name": "python",
   "nbconvert_exporter": "python",
   "pygments_lexer": "ipython3",
   "version": "3.7.5"
  }
 },
 "nbformat": 4,
 "nbformat_minor": 4
}
